{
 "cells": [
  {
   "cell_type": "code",
   "execution_count": null,
   "metadata": {},
   "outputs": [],
   "source": [
    "from skimage.feature.texture import graycomatrix, graycoprops\n",
    "from skimage.color import rgb2gray\n",
    "from skimage import io\n",
    "import matplotlib.pyplot as plt\n",
    "import os\n",
    "from tqdm import tqdm\n",
    "import numpy as np\n",
    "\n",
    "\n",
    "def get_glcm_features(gray_scale_img):\n",
    "    \"\"\"\n",
    "    Given a grayscale image with graylevels from 0 - 255, this function returns the contrast\n",
    "    and the homogeneity features of the image with the help of GLCM\n",
    "    \"\"\"\n",
    "    # Tip: Make sure you understand the input-output of everything you write,\n",
    "    # not doing that results in bugs that make you believe the lab is long\n",
    "    glcm = graycomatrix(gray_scale_img, distances=[1], angles=[0], levels=256)\n",
    "    contrast = graycoprops(glcm, \"contrast\")\n",
    "    homogeneity = graycoprops(glcm, \"homogeneity\")\n",
    "\n",
    "    return contrast, homogeneity\n",
    "\n",
    "\n",
    "# You don't need to understand how this function works\n",
    "def plot_2d_features_with_names(names_fts_list, xlabel, ylabel):\n",
    "    x = [names_fts[1][0] for names_fts in names_fts_list]\n",
    "    y = [names_fts[1][1] for names_fts in names_fts_list]\n",
    "    txts = [names_fts[0] for names_fts in names_fts_list]\n",
    "\n",
    "    fig, ax = plt.subplots()\n",
    "    ax.scatter(x, y)\n",
    "\n",
    "    for i, txt in enumerate(txts):\n",
    "        ax.annotate(txt, (x[i], y[i]))\n",
    "    ax.grid()\n",
    "    ax.set_xlabel(xlabel)\n",
    "    ax.set_ylabel(ylabel)\n",
    "    fig = plt.gcf()\n",
    "    fig.set_size_inches(13, 8)\n"
   ]
  },
  {
   "cell_type": "code",
   "execution_count": null,
   "metadata": {},
   "outputs": [],
   "source": [
    "sample_size = 1000\n",
    "path_to_hands = \"./Hands/\"\n",
    "image_names = os.listdir(path_to_hands)[:sample_size]\n",
    "fns = [os.path.splitext(fn)[0] for fn in image_names]\n",
    "gray_scale_images = [\n",
    "    (rgb2gray(io.imread(path_to_hands + img)) * 255).astype(np.uint8)\n",
    "    for img in tqdm(image_names)\n",
    "]\n"
   ]
  },
  {
   "cell_type": "code",
   "execution_count": null,
   "metadata": {},
   "outputs": [],
   "source": [
    "\n",
    "fn_ft_list = [\n",
    "    (fn, get_glcm_features(img)) for fn, img in tqdm(zip(fns, gray_scale_images))\n",
    "]\n",
    "\n",
    "plot_2d_features_with_names(fn_ft_list, \"contrast\", \"homogeneity\")"
   ]
  }
 ],
 "metadata": {
  "language_info": {
   "name": "python"
  },
  "orig_nbformat": 4
 },
 "nbformat": 4,
 "nbformat_minor": 2
}
